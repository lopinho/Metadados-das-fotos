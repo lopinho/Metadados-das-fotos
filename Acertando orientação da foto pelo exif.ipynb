{
 "cells": [
  {
   "cell_type": "markdown",
   "metadata": {},
   "source": [
    "## Importando e carregando a imagem"
   ]
  },
  {
   "cell_type": "code",
   "execution_count": 1,
   "metadata": {
    "collapsed": true
   },
   "outputs": [],
   "source": [
    "from PIL import Image\n",
    "from PIL.ExifTags import TAGS\n",
    "\n",
    "im = Image.open('teste.JPG')\n"
   ]
  },
  {
   "cell_type": "markdown",
   "metadata": {},
   "source": [
    "## Obtendo e imprimindo meta dados da foto"
   ]
  },
  {
   "cell_type": "code",
   "execution_count": 2,
   "metadata": {},
   "outputs": [
    {
     "name": "stdout",
     "output_type": "stream",
     "text": [
      "GPSInfo {1: 'S', 2: ((23, 1), (0, 1), (3656, 100)), 3: 'W', 4: ((43, 1), (25, 1), (1986, 100)), 5: b'\\x00', 6: (93265, 6772), 7: ((21, 1), (3, 1), (43, 1)), 12: 'K', 13: (0, 1), 16: 'T', 17: (9839, 894), 23: 'T', 24: (9839, 894), 29: '2017:11:15', 31: (65, 1)}\n",
      "ResolutionUnit 2\n",
      "ExifOffset 208\n",
      "Make Apple\n",
      "Model iPad mini 3\n",
      "Software 10.3.2\n",
      "Orientation 6\n",
      "DateTime 2017:11:15 19:03:57\n",
      "YCbCrPositioning 1\n",
      "XResolution (72, 1)\n",
      "YResolution (72, 1)\n",
      "ExifVersion b'0221'\n",
      "ComponentsConfiguration b'\\x01\\x02\\x03\\x00'\n",
      "ShutterSpeedValue (3237, 706)\n",
      "DateTimeOriginal 2017:11:15 19:03:57\n",
      "DateTimeDigitized 2017:11:15 19:03:57\n",
      "ApertureValue (4845, 1918)\n",
      "BrightnessValue (5329, 1777)\n",
      "ExposureBiasValue (0, 1)\n",
      "MeteringMode 5\n",
      "Flash 32\n",
      "FocalLength (33, 10)\n",
      "ColorSpace 1\n",
      "ExifImageWidth 2592\n",
      "FocalLengthIn35mmFilm 32\n",
      "SceneCaptureType 0\n",
      "ExifImageHeight 1936\n",
      "SubsecTimeOriginal 516\n",
      "SubsecTimeDigitized 516\n",
      "SubjectLocation (1295, 967, 1425, 851)\n",
      "SensingMethod 2\n",
      "ExposureTime (1, 24)\n",
      "FNumber (12, 5)\n",
      "SceneType b'\\x01'\n",
      "ExposureProgram 2\n",
      "ISOSpeedRatings 100\n",
      "ExposureMode 0\n",
      "FlashPixVersion b'0100'\n",
      "WhiteBalance 0\n",
      "LensSpecification ((33, 10), (33, 10), (12, 5), (12, 5))\n",
      "LensMake Apple\n",
      "LensModel iPad mini 3 back camera 3.3mm f/2.4\n",
      "MakerNote b'Apple iOS\\x00\\x00\\x01MM\\x00\\t\\x00\\x01\\x00\\t\\x00\\x00\\x00\\x01\\x00\\x00\\x00\\x05\\x00\\x03\\x00\\x07\\x00\\x00\\x00h\\x00\\x00\\x00\\x80\\x00\\x04\\x00\\t\\x00\\x00\\x00\\x01\\x00\\x00\\x00\\x01\\x00\\x05\\x00\\t\\x00\\x00\\x00\\x01\\x00\\x00\\x00\\xf8\\x00\\x06\\x00\\t\\x00\\x00\\x00\\x01\\x00\\x00\\x00\\xf1\\x00\\x07\\x00\\t\\x00\\x00\\x00\\x01\\x00\\x00\\x00\\x01\\x00\\x08\\x00\\n\\x00\\x00\\x00\\x03\\x00\\x00\\x00\\xe8\\x00\\x0e\\x00\\t\\x00\\x00\\x00\\x01\\x00\\x00\\x00\\x01\\x00\\x14\\x00\\t\\x00\\x00\\x00\\x01\\x00\\x00\\x00\\x01\\x00\\x00\\x00\\x00bplist00\\xd4\\x01\\x02\\x03\\x04\\x05\\x06\\x07\\x08UflagsUvalueUepochYtimescale\\x10\\x01\\x13\\x00\\x00\\x10\\x99\\xd9\\x1f\\xa7\\x8b\\x10\\x00\\x12;\\x9a\\xca\\x00\\x08\\x11\\x17\\x1d#-/8:\\x00\\x00\\x00\\x00\\x00\\x00\\x01\\x01\\x00\\x00\\x00\\x00\\x00\\x00\\x00\\t\\x00\\x00\\x00\\x00\\x00\\x00\\x00\\x00\\x00\\x00\\x00\\x00\\x00\\x00\\x00?\\xff\\xff\\xfc \\x00\\x00\\xa8\\xbd\\xff\\xff\\xf9\\xa1\\x00\\x00\\x07\\xb9\\xff\\xff\\xf5<\\x00\\x00\\x13!'\n"
     ]
    }
   ],
   "source": [
    "exifdict = im._getexif()\n",
    "for k in exifdict.keys():\n",
    "    if k in TAGS.keys():\n",
    "        print (TAGS[k], exifdict[k])\n",
    "    else:\n",
    "        print (k, exifdict[k])\n"
   ]
  },
  {
   "cell_type": "markdown",
   "metadata": {},
   "source": [
    " ## Codigos para Orientation (274)  e seu significado"
   ]
  },
  {
   "cell_type": "code",
   "execution_count": 3,
   "metadata": {
    "collapsed": true
   },
   "outputs": [],
   "source": [
    "funcoes_para_orientacao = {\n",
    "    1: lambda img: img,\n",
    "    2: lambda img: img.transpose(Image.FLIP_LEFT_RIGHT),\n",
    "    3: lambda img: img.rotate(180),\n",
    "    4: lambda img: img.rotate(180).transpose(Image.FLIP_LEFT_RIGHT),\n",
    "    5: lambda img: img.rotate(-90).transpose(Image.FLIP_LEFT_RIGHT),\n",
    "    6: lambda img: img.rotate(-90),\n",
    "    7: lambda img: img.rotate(90).transpose(Image.FLIP_LEFT_RIGHT),\n",
    "    8: lambda img: img.rotate(90)}"
   ]
  },
  {
   "cell_type": "markdown",
   "metadata": {},
   "source": [
    "## Criando e mostrando arquivo sem EXIF"
   ]
  },
  {
   "cell_type": "code",
   "execution_count": 4,
   "metadata": {
    "collapsed": true
   },
   "outputs": [],
   "source": [
    "data = list(im.getdata())\n",
    "image_without_exif = Image.new(im.mode, im.size)\n",
    "image_without_exif.putdata(data)\n",
    "image_without_exif.show()\n"
   ]
  },
  {
   "cell_type": "markdown",
   "metadata": {},
   "source": [
    "## Tratando e rotacionando corretamente imagem"
   ]
  },
  {
   "cell_type": "code",
   "execution_count": 5,
   "metadata": {},
   "outputs": [],
   "source": [
    "orientacao = exifdict[274]\n",
    "trata_imagem = funcoes_para_orientacao[orientacao]\n",
    "\n",
    "image_without_exif = trata_imagem(image_without_exif)\n",
    "image_without_exif.show()"
   ]
  },
  {
   "cell_type": "code",
   "execution_count": null,
   "metadata": {
    "collapsed": true
   },
   "outputs": [],
   "source": []
  }
 ],
 "metadata": {
  "kernelspec": {
   "display_name": "Python 3",
   "language": "python",
   "name": "python3"
  },
  "language_info": {
   "codemirror_mode": {
    "name": "ipython",
    "version": 3
   },
   "file_extension": ".py",
   "mimetype": "text/x-python",
   "name": "python",
   "nbconvert_exporter": "python",
   "pygments_lexer": "ipython3",
   "version": "3.6.2"
  }
 },
 "nbformat": 4,
 "nbformat_minor": 2
}
